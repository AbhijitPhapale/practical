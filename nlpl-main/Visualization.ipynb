{
 "cells": [
  {
   "cell_type": "code",
   "execution_count": null,
   "metadata": {},
   "outputs": [],
   "source": [
    "import pandas as pd\n",
    "import matplotlib.pyplot as plt\n",
    "\n",
    "# Reading the database\n",
    "data = pd.read_csv(\"tips.csv\")\n",
    "\n",
    "# Display basic information about the dataset\n",
    "print(data.info())\n",
    "\n",
    "# Handling missing values\n",
    "data = data.dropna()  # For simplicity, drop rows with missing values\n",
    "\n",
    "# Checking for duplicate rows\n",
    "print(\"Number of duplicate rows:\", data.duplicated().sum())\n",
    "\n",
    "# Explore the cleaned dataset\n",
    "print(data.head())\n",
    "\n",
    "# Bar chart with day against tip\n",
    "plt.bar(data['day'], data['tip'])\n",
    "\n",
    "plt.title(\"Bar Chart\")\n",
    "\n",
    "# Setting the X and Y labels\n",
    "plt.xlabel('Day')\n",
    "plt.ylabel('Tip')\n",
    "\n",
    "# Adding the legends\n",
    "plt.show()\n",
    "\n",
    "plt.hist(data['total_bill'])\n",
    " \n",
    "plt.title(\"Histogram\")\n",
    " \n",
    "# Adding the legends\n",
    "plt.show()"
   ]
  }
 ],
 "metadata": {
  "language_info": {
   "name": "python"
  }
 },
 "nbformat": 4,
 "nbformat_minor": 2
}
